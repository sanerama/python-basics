{
 "cells": [
  {
   "cell_type": "code",
   "execution_count": 11,
   "metadata": {},
   "outputs": [
    {
     "name": "stdout",
     "output_type": "stream",
     "text": [
      "\n",
      "\n",
      "key = List item =  2 Value = 1\n",
      "\n",
      "\n",
      "\n",
      "\n"
     ]
    }
   ],
   "source": [
    "dict1 = {0:'Mark', 1:'30', 2:'1', 3:'IT', 4:'e', 5:'f'}\n",
    "list1 = [2, 5]\n",
    "def lookUpDict(emp, l):\n",
    "    for k, v in emp.items():\n",
    "        for i in range(len(l)):\n",
    "            if(k == l[i]):\n",
    "                print(\"key = List item = \",k, \"Value =\", v)\n",
    "        print()\n",
    "\n",
    "lookUpDict(emp, l)"
   ]
  },
  {
   "cell_type": "code",
   "execution_count": 23,
   "metadata": {},
   "outputs": [
    {
     "name": "stdout",
     "output_type": "stream",
     "text": [
      "{0: 'mark', 1: '30', 2: 'it', 3: 'f'}\n",
      "\n",
      "key = List item =  1 Value = 30\n",
      "\n",
      "key = List item =  2 Value = it\n",
      "\n",
      "\n"
     ]
    }
   ],
   "source": [
    "# if emp is a list\n",
    "list1 = [2, 3]\n",
    "list2 = ['mark', '30', 'it', 'f']\n",
    "newDict = {}\n",
    "for i in range(len(list2)):\n",
    "    newDict[i]=list2[i]\n",
    "print(newDict)\n",
    "def lookUpDict(list1, newDict):\n",
    "    for k, v in newDict.items():\n",
    "        for a in range(len(list1)):\n",
    "            if(k == list1[a]-1):\n",
    "                print(\"key = List item = \",k, \"Value =\", v)\n",
    "        print()\n",
    "\n",
    "lookUpDict(list1, newDict)"
   ]
  },
  {
   "cell_type": "code",
   "execution_count": null,
   "metadata": {},
   "outputs": [],
   "source": []
  }
 ],
 "metadata": {
  "kernelspec": {
   "display_name": "Python 3",
   "language": "python",
   "name": "python3"
  },
  "language_info": {
   "codemirror_mode": {
    "name": "ipython",
    "version": 3
   },
   "file_extension": ".py",
   "mimetype": "text/x-python",
   "name": "python",
   "nbconvert_exporter": "python",
   "pygments_lexer": "ipython3",
   "version": "3.6.5"
  }
 },
 "nbformat": 4,
 "nbformat_minor": 2
}
