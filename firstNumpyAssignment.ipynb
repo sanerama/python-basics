{
 "cells": [
  {
   "cell_type": "code",
   "execution_count": 15,
   "metadata": {},
   "outputs": [
    {
     "name": "stdout",
     "output_type": "stream",
     "text": [
      "<class 'numpy.ndarray'>\n",
      "[1 2 3]\n",
      "(3,)\n",
      "[1 5 3]\n",
      "(2, 3)\n",
      "[[1 2 4]\n",
      " [2 5 7]]\n",
      "<class 'numpy.ndarray'>\n",
      "1 7 2\n"
     ]
    }
   ],
   "source": [
    "# We can initialize numpy arrays from nested Python lists, and access elements using square brackets:\n",
    "import numpy as np\n",
    "a = np.array([1, 2, 3])\n",
    "print(type(a))\n",
    "print(a)\n",
    "print(a.shape)\n",
    "a[1] = 5\n",
    "print(a)\n",
    "\n",
    "b = np.array([[1, 2, 4], [2, 5, 7]])\n",
    "print(b.shape)\n",
    "print(b)\n",
    "print(type(b))\n",
    "print(b[0,0], b[1,2], b[0,1])\n"
   ]
  },
  {
   "cell_type": "code",
   "execution_count": null,
   "metadata": {},
   "outputs": [],
   "source": []
  }
 ],
 "metadata": {
  "kernelspec": {
   "display_name": "Python 3",
   "language": "python",
   "name": "python3"
  },
  "language_info": {
   "codemirror_mode": {
    "name": "ipython",
    "version": 3
   },
   "file_extension": ".py",
   "mimetype": "text/x-python",
   "name": "python",
   "nbconvert_exporter": "python",
   "pygments_lexer": "ipython3",
   "version": "3.6.5"
  }
 },
 "nbformat": 4,
 "nbformat_minor": 2
}
