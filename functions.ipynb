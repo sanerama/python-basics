{
 "cells": [
  {
   "cell_type": "code",
   "execution_count": 10,
   "metadata": {},
   "outputs": [
    {
     "name": "stdout",
     "output_type": "stream",
     "text": [
      "hello\n",
      "\n",
      "hello Rama!\n",
      "\n",
      "have a corn pizza\n",
      "have a chicken pizza\n",
      "\n",
      "20\n"
     ]
    }
   ],
   "source": [
    "#simple functions\n",
    "\n",
    "def greet_user():\n",
    "    print(\"hello\")\n",
    "greet_user()\n",
    "print()\n",
    "\n",
    "#passing an argument\n",
    "\n",
    "def greet_user(name):\n",
    "    print(\"hello \" + name + \"!\")\n",
    "greet_user('Rama')\n",
    "print()\n",
    "\n",
    "#default values for parameters\n",
    "\n",
    "def pizza(topping = 'corn'):\n",
    "    print(\"have a \" + topping + \" pizza\")\n",
    "pizza()\n",
    "pizza('chicken')\n",
    "print()\n",
    "\n",
    "#returning value\n",
    "\n",
    "def mul_numbers(a, b):\n",
    "    return a*b\n",
    "multiplication = mul_numbers(4, 5)\n",
    "print(multiplication)\n",
    "\n"
   ]
  },
  {
   "cell_type": "code",
   "execution_count": null,
   "metadata": {},
   "outputs": [],
   "source": []
  }
 ],
 "metadata": {
  "kernelspec": {
   "display_name": "Python 3",
   "language": "python",
   "name": "python3"
  },
  "language_info": {
   "codemirror_mode": {
    "name": "ipython",
    "version": 3
   },
   "file_extension": ".py",
   "mimetype": "text/x-python",
   "name": "python",
   "nbconvert_exporter": "python",
   "pygments_lexer": "ipython3",
   "version": "3.6.5"
  }
 },
 "nbformat": 4,
 "nbformat_minor": 2
}
