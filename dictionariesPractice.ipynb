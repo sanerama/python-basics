{
 "cells": [
  {
   "cell_type": "code",
   "execution_count": 9,
   "metadata": {},
   "outputs": [
    {
     "name": "stdout",
     "output_type": "stream",
     "text": [
      "{'name': 'Rama', 'age': '30', 'id': '123', 'designation': 'developer', 'department': 'IT'}\n",
      "\n",
      "Modifying Values\n",
      "--------------------------------------------------------------------------\n",
      "{'name': 'Jade', 'age': '30', 'id': '123', 'designation': 'developer', 'department': 'IT'}\n",
      "\n",
      "Deleting key value pair\n",
      "--------------------------------------------------------------------------\n",
      "{'name': 'Jade', 'age': '30', 'id': '123', 'department': 'IT'}\n",
      "\n",
      "Looping through key value pairs\n",
      "--------------------------------------------------------------------------\n",
      "for  key name, value is Jade\n",
      "for  key age, value is 30\n",
      "for  key id, value is 123\n",
      "for  key department, value is IT\n",
      "\n",
      "Looping through keys\n",
      "varous key values are: \n",
      "--------------------------------------------------------------------------\n",
      "name\n",
      "age\n",
      "id\n",
      "department\n",
      "\n",
      "Looping through values\n",
      "varous  values are: \n",
      "--------------------------------------------------------------------------\n",
      "Jade\n",
      "30\n",
      "123\n",
      "IT\n",
      "\n"
     ]
    }
   ],
   "source": [
    "emp = {'name': 'Rama', 'age':'30','id':'123','designation':'developer','department':'IT'}\n",
    "print(emp)\n",
    "print()\n",
    "#Modifying values \n",
    "print(\"Modifying Values\")\n",
    "print(\"--------------------------------------------------------------------------\")\n",
    "emp['name'] = 'Jade'\n",
    "print(emp)\n",
    "print()\n",
    "\n",
    "#deleing key value pair\n",
    "print(\"Deleting key value pair\")\n",
    "print(\"--------------------------------------------------------------------------\")\n",
    "del emp['designation']\n",
    "print(emp)\n",
    "print()\n",
    "\n",
    "#Looping through all key values pair\n",
    "print(\"Looping through key value pairs\")\n",
    "print(\"--------------------------------------------------------------------------\")\n",
    "for a, b in emp.items():\n",
    "    print(\"for  key \" + a + \", value is \" + b)\n",
    "print()\n",
    "\n",
    "#Looping through all keys\n",
    "print(\"Looping through keys\")\n",
    "print(\"varous key values are: \")\n",
    "print(\"--------------------------------------------------------------------------\")\n",
    "for a in emp.keys():\n",
    "    print(a)\n",
    "print()\n",
    "\n",
    "#Looping through all values\n",
    "print(\"Looping through values\")\n",
    "print(\"varous  values are: \")\n",
    "print(\"--------------------------------------------------------------------------\")\n",
    "for a in emp.values():\n",
    "    print(a)\n",
    "print()\n",
    "\n",
    "#finding dictionary length\n"
   ]
  },
  {
   "cell_type": "code",
   "execution_count": null,
   "metadata": {},
   "outputs": [],
   "source": []
  }
 ],
 "metadata": {
  "kernelspec": {
   "display_name": "Python 3",
   "language": "python",
   "name": "python3"
  },
  "language_info": {
   "codemirror_mode": {
    "name": "ipython",
    "version": 3
   },
   "file_extension": ".py",
   "mimetype": "text/x-python",
   "name": "python",
   "nbconvert_exporter": "python",
   "pygments_lexer": "ipython3",
   "version": "3.6.5"
  }
 },
 "nbformat": 4,
 "nbformat_minor": 2
}
