{
 "cells": [
  {
   "cell_type": "code",
   "execution_count": 7,
   "metadata": {},
   "outputs": [
    {
     "name": "stdout",
     "output_type": "stream",
     "text": [
      "enter number of elements: 5\n",
      "enter number2\n",
      "enter number6\n",
      "enter number8\n",
      "enter number4\n",
      "enter number5\n",
      "[a] =  ['2', '6', '8', '4', '5']\n"
     ]
    }
   ],
   "source": [
    "a = []\n",
    "b = int(input(\"enter number of elements: \"))\n",
    "for i in range(0, b):\n",
    "    c = input(\"enter number\")\n",
    "    a.append(c)\n",
    "print(\"[a] = \", a)"
   ]
  },
  {
   "cell_type": "code",
   "execution_count": 8,
   "metadata": {},
   "outputs": [],
   "source": [
    "a = map(int, a)      #map function is used to covert type"
   ]
  },
  {
   "cell_type": "code",
   "execution_count": 9,
   "metadata": {},
   "outputs": [
    {
     "name": "stdout",
     "output_type": "stream",
     "text": [
      "total of enterd array a is 25\n"
     ]
    }
   ],
   "source": [
    "total = 0\n",
    "for j in a:\n",
    "    total = total + j\n",
    "print(\"total of enterd array a is\", total)"
   ]
  },
  {
   "cell_type": "code",
   "execution_count": null,
   "metadata": {},
   "outputs": [],
   "source": []
  }
 ],
 "metadata": {
  "kernelspec": {
   "display_name": "Python 3",
   "language": "python",
   "name": "python3"
  },
  "language_info": {
   "codemirror_mode": {
    "name": "ipython",
    "version": 3
   },
   "file_extension": ".py",
   "mimetype": "text/x-python",
   "name": "python",
   "nbconvert_exporter": "python",
   "pygments_lexer": "ipython3",
   "version": "3.6.5"
  }
 },
 "nbformat": 4,
 "nbformat_minor": 2
}
