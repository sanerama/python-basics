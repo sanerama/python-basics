{
 "cells": [
  {
   "cell_type": "code",
   "execution_count": 1,
   "metadata": {},
   "outputs": [
    {
     "name": "stdout",
     "output_type": "stream",
     "text": [
      "range(1, 100)\n"
     ]
    }
   ],
   "source": [
    "num = range(1,100)\n",
    "print(num)"
   ]
  },
  {
   "cell_type": "code",
   "execution_count": 11,
   "metadata": {},
   "outputs": [
    {
     "name": "stdout",
     "output_type": "stream",
     "text": [
      "1 2 3 4 5 6 7 8 9 10 11 12 13 14 15 16 17 18 19 20 21 22 23 24 25 26 27 28 29 30 31 32 33 34 35 36 37 38 39 40 41 42 43 44 45 46 47 48 49 50 51 52 53 54 55 56 57 58 59 60 61 62 63 64 65 66 67 68 69 70 71 72 73 74 75 76 77 78 79 80 81 82 83 84 85 86 87 88 89 90 91 92 93 94 95 96 97 98 99 "
     ]
    }
   ],
   "source": [
    "for i in range(1,100):\n",
    "    print(i, end = \" \")\n"
   ]
  },
  {
   "cell_type": "code",
   "execution_count": 17,
   "metadata": {},
   "outputs": [
    {
     "name": "stdout",
     "output_type": "stream",
     "text": [
      "1 3 5 7 9 11 13 15 17 19 21 23 25 27 29 31 33 35 37 39 41 43 45 47 49 51 53 55 57 59 61 63 65 67 69 71 73 75 77 79 81 83 85 87 89 91 93 95 97 99 "
     ]
    }
   ],
   "source": [
    "for i in range(1,100):\n",
    "   # print(i,end = \"  \")\n",
    "    if(i % 2 != 0):\n",
    "        print(i, end = \" \")"
   ]
  },
  {
   "cell_type": "code",
   "execution_count": 28,
   "metadata": {},
   "outputs": [
    {
     "name": "stdout",
     "output_type": "stream",
     "text": [
      "odd numbers are:  1\n",
      "\n",
      "even numbers are:  2odd numbers are:  3\n",
      "\n",
      "even numbers are:  4odd numbers are:  5\n",
      "\n",
      "even numbers are:  6odd numbers are:  7\n",
      "\n",
      "even numbers are:  8odd numbers are:  9\n",
      "\n",
      "even numbers are:  10odd numbers are:  11\n",
      "\n",
      "even numbers are:  12odd numbers are:  13\n",
      "\n",
      "even numbers are:  14odd numbers are:  15\n",
      "\n",
      "even numbers are:  16odd numbers are:  17\n",
      "\n",
      "even numbers are:  18odd numbers are:  19\n",
      "\n",
      "even numbers are:  20odd numbers are:  21\n",
      "\n",
      "even numbers are:  22odd numbers are:  23\n",
      "\n",
      "even numbers are:  24odd numbers are:  25\n",
      "\n",
      "even numbers are:  26odd numbers are:  27\n",
      "\n",
      "even numbers are:  28odd numbers are:  29\n",
      "\n",
      "even numbers are:  30odd numbers are:  31\n",
      "\n",
      "even numbers are:  32odd numbers are:  33\n",
      "\n",
      "even numbers are:  34odd numbers are:  35\n",
      "\n",
      "even numbers are:  36odd numbers are:  37\n",
      "\n",
      "even numbers are:  38odd numbers are:  39\n",
      "\n",
      "even numbers are:  40odd numbers are:  41\n",
      "\n",
      "even numbers are:  42odd numbers are:  43\n",
      "\n",
      "even numbers are:  44odd numbers are:  45\n",
      "\n",
      "even numbers are:  46odd numbers are:  47\n",
      "\n",
      "even numbers are:  48odd numbers are:  49\n",
      "\n",
      "even numbers are:  50odd numbers are:  51\n",
      "\n",
      "even numbers are:  52odd numbers are:  53\n",
      "\n",
      "even numbers are:  54odd numbers are:  55\n",
      "\n",
      "even numbers are:  56odd numbers are:  57\n",
      "\n",
      "even numbers are:  58odd numbers are:  59\n",
      "\n",
      "even numbers are:  60odd numbers are:  61\n",
      "\n",
      "even numbers are:  62odd numbers are:  63\n",
      "\n",
      "even numbers are:  64odd numbers are:  65\n",
      "\n",
      "even numbers are:  66odd numbers are:  67\n",
      "\n",
      "even numbers are:  68odd numbers are:  69\n",
      "\n",
      "even numbers are:  70odd numbers are:  71\n",
      "\n",
      "even numbers are:  72odd numbers are:  73\n",
      "\n",
      "even numbers are:  74odd numbers are:  75\n",
      "\n",
      "even numbers are:  76odd numbers are:  77\n",
      "\n",
      "even numbers are:  78odd numbers are:  79\n",
      "\n",
      "even numbers are:  80odd numbers are:  81\n",
      "\n",
      "even numbers are:  82odd numbers are:  83\n",
      "\n",
      "even numbers are:  84odd numbers are:  85\n",
      "\n",
      "even numbers are:  86odd numbers are:  87\n",
      "\n",
      "even numbers are:  88odd numbers are:  89\n",
      "\n",
      "even numbers are:  90odd numbers are:  91\n",
      "\n",
      "even numbers are:  92odd numbers are:  93\n",
      "\n",
      "even numbers are:  94odd numbers are:  95\n",
      "\n",
      "even numbers are:  96odd numbers are:  97\n",
      "\n",
      "even numbers are:  98odd numbers are:  99\n",
      "\n",
      "None\n"
     ]
    }
   ],
   "source": [
    "#even odd using function\n",
    "def even_odd():\n",
    "    for i in range(1,100):\n",
    "   # print(i,end = \"  \")\n",
    "        if(i % 2 != 0):\n",
    "           print(\"odd numbers are: \",i)\n",
    "           print()\n",
    "        else:\n",
    "            (i%2 == 0)\n",
    "            print(\"even numbers are: \",i,end = \"\")\n",
    "           \n",
    "print(even_odd())"
   ]
  },
  {
   "cell_type": "code",
   "execution_count": null,
   "metadata": {},
   "outputs": [],
   "source": []
  },
  {
   "cell_type": "code",
   "execution_count": null,
   "metadata": {},
   "outputs": [],
   "source": []
  }
 ],
 "metadata": {
  "kernelspec": {
   "display_name": "Python 3",
   "language": "python",
   "name": "python3"
  },
  "language_info": {
   "codemirror_mode": {
    "name": "ipython",
    "version": 3
   },
   "file_extension": ".py",
   "mimetype": "text/x-python",
   "name": "python",
   "nbconvert_exporter": "python",
   "pygments_lexer": "ipython3",
   "version": "3.6.5"
  }
 },
 "nbformat": 4,
 "nbformat_minor": 2
}
