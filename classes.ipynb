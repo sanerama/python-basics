{
 "cells": [
  {
   "cell_type": "code",
   "execution_count": 5,
   "metadata": {},
   "outputs": [
    {
     "name": "stdout",
     "output_type": "stream",
     "text": [
      "zozo is a great dog!\n",
      "zozo is sitting!\n",
      "\n",
      "tommy is a great dog!\n"
     ]
    }
   ],
   "source": [
    "class dog():\n",
    "    def __init__(self, name):\n",
    "        self.name = name\n",
    "    def sit(self):\n",
    "        print(self.name + \" is sitting!\")\n",
    "s = dog(\"zozo\")\n",
    "print(s.name + \" is a great dog!\")\n",
    "s.sit()\n",
    "q = dog('tommy')\n",
    "print()\n",
    "print(q.name + \" is a great dog!\")\n"
   ]
  },
  {
   "cell_type": "code",
   "execution_count": null,
   "metadata": {},
   "outputs": [],
   "source": []
  },
  {
   "cell_type": "code",
   "execution_count": null,
   "metadata": {},
   "outputs": [],
   "source": []
  }
 ],
 "metadata": {
  "kernelspec": {
   "display_name": "Python 3",
   "language": "python",
   "name": "python3"
  },
  "language_info": {
   "codemirror_mode": {
    "name": "ipython",
    "version": 3
   },
   "file_extension": ".py",
   "mimetype": "text/x-python",
   "name": "python",
   "nbconvert_exporter": "python",
   "pygments_lexer": "ipython3",
   "version": "3.6.5"
  }
 },
 "nbformat": 4,
 "nbformat_minor": 2
}
