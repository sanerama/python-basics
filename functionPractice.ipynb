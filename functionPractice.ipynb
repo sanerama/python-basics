{
 "cells": [
  {
   "cell_type": "code",
   "execution_count": 3,
   "metadata": {},
   "outputs": [
    {
     "name": "stdout",
     "output_type": "stream",
     "text": [
      "passing list as an argument\n",
      "---------------------------------------------------------------------\n",
      "hello tom!\n",
      "hello sam!\n",
      "hello Jade!\n"
     ]
    }
   ],
   "source": [
    "#passing list as an argument\n",
    "print(\"passing list as an argument\")\n",
    "print(\"---------------------------------------------------------------------\")\n",
    "def greet_user(names):\n",
    "    for name in names:\n",
    "        print(\"hello \" + name + \"!\")\n",
    "userList = ['tom', 'sam', 'Jade']\n",
    "greet_user(userList)"
   ]
  },
  {
   "cell_type": "code",
   "execution_count": null,
   "metadata": {},
   "outputs": [],
   "source": []
  }
 ],
 "metadata": {
  "kernelspec": {
   "display_name": "Python 3",
   "language": "python",
   "name": "python3"
  },
  "language_info": {
   "codemirror_mode": {
    "name": "ipython",
    "version": 3
   },
   "file_extension": ".py",
   "mimetype": "text/x-python",
   "name": "python",
   "nbconvert_exporter": "python",
   "pygments_lexer": "ipython3",
   "version": "3.6.5"
  }
 },
 "nbformat": 4,
 "nbformat_minor": 2
}
