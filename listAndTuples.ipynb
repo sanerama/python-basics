{
 "cells": [
  {
   "cell_type": "code",
   "execution_count": 25,
   "metadata": {},
   "outputs": [
    {
     "name": "stdout",
     "output_type": "stream",
     "text": [
      "first and last elements of lists are: 1 and 5\n",
      "1\n",
      "2\n",
      "3\n",
      "4\n",
      "5\n",
      "[1, 4, 9, 16, 25, 36, 49, 64, 81, 100, 121, 144, 169, 196, 225, 256, 289, 324, 361] \n",
      "first Two finishers are: ['tom', 'sam']\n",
      "last Two finishers are: ['jay', 'bob']\n",
      "reverse list ['bob', 'jay', 'sam', 'tom']\n",
      "('a', 'b', 'c', 'd')\n"
     ]
    }
   ],
   "source": [
    "num = [1, 2, 3, 4, 5]\n",
    "first = num[0]\n",
    "last = num[-1]\n",
    "print(\"first and last elements of lists are:\", first, \"and\", last)\n",
    "for i in num:\n",
    "    print(i)\n",
    "num.append(6)\n",
    "num.append(7)\n",
    "num.append(8)\n",
    "\n",
    "#making Numerical list\n",
    "\n",
    "sqr = []\n",
    "for i in range(1,20):\n",
    "    sqr.append(i**2)\n",
    "print(sqr, end = \" \")\n",
    "print()\n",
    "\n",
    "#slicing list\n",
    "\n",
    "finishers = ['tom', 'sam', 'jay', 'bob']\n",
    "firstTwo = finishers[:2]\n",
    "lastTwo = finishers[-2:]\n",
    "reverse = finishers[::-1]\n",
    "print(\"first Two finishers are:\", firstTwo)\n",
    "print(\"last Two finishers are:\", lastTwo)\n",
    "print(\"reverse list\", reverse)\n",
    "\n",
    "#tuples \n",
    "\n",
    "name = ('a', 'b', 'c', 'd')\n",
    "print(name)\n",
    "\n",
    "\n",
    "\n",
    "\n",
    "\n",
    "\n"
   ]
  },
  {
   "cell_type": "code",
   "execution_count": 2,
   "metadata": {},
   "outputs": [
    {
     "name": "stdout",
     "output_type": "stream",
     "text": [
      "[1, 2, 3, 4, 5, '6', 7, 8]\n"
     ]
    }
   ],
   "source": [
    "print(num)\n",
    "\n"
   ]
  },
  {
   "cell_type": "code",
   "execution_count": null,
   "metadata": {},
   "outputs": [],
   "source": []
  }
 ],
 "metadata": {
  "kernelspec": {
   "display_name": "Python 3",
   "language": "python",
   "name": "python3"
  },
  "language_info": {
   "codemirror_mode": {
    "name": "ipython",
    "version": 3
   },
   "file_extension": ".py",
   "mimetype": "text/x-python",
   "name": "python",
   "nbconvert_exporter": "python",
   "pygments_lexer": "ipython3",
   "version": "3.6.5"
  }
 },
 "nbformat": 4,
 "nbformat_minor": 2
}
