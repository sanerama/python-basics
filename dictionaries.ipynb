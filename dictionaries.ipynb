{
 "cells": [
  {
   "cell_type": "code",
   "execution_count": 20,
   "metadata": {},
   "outputs": [
    {
     "name": "stdout",
     "output_type": "stream",
     "text": [
      "{'color': 'green', 'point': '5'}\n",
      "alien's color is: green\n",
      "\n",
      "{'color': 'green', 'point': '5', 'size': '14'}\n",
      "\n",
      "color is a key of dictionary elien.\n",
      "point is a key of dictionary elien.\n",
      "size is a key of dictionary elien.\n",
      "\n",
      "green is a value of dictionary elien\n",
      "5 is a value of dictionary elien\n",
      "14 is a value of dictionary elien\n",
      "\n",
      "alien's color is green\n",
      "alien's point is 5\n",
      "alien's size is 14\n"
     ]
    }
   ],
   "source": [
    "alien = {'color': 'green', 'point': '5'}\n",
    "print(alien)\n",
    "print(\"alien's color is: \" + alien['color'])\n",
    "print()\n",
    "\n",
    "#adding element\n",
    "\n",
    "alien['size'] = '14'\n",
    "print(alien)\n",
    "print()\n",
    "\n",
    "#looping through key\n",
    "\n",
    "for colors in alien.keys():\n",
    "    print(colors + ' is a key of dictionary elien.')\n",
    "print()\n",
    "\n",
    "#looping through value\n",
    "\n",
    "for aValues in alien.values():\n",
    "    print(aValues + ' is a value of dictionary elien')\n",
    "print()\n",
    "\n",
    "#looping through key value \n",
    "\n",
    "for a, b, in alien.items():\n",
    "    print(\"alien's \" + a + ' is ' + b)\n",
    "\n"
   ]
  },
  {
   "cell_type": "code",
   "execution_count": null,
   "metadata": {},
   "outputs": [],
   "source": []
  }
 ],
 "metadata": {
  "kernelspec": {
   "display_name": "Python 3",
   "language": "python",
   "name": "python3"
  },
  "language_info": {
   "codemirror_mode": {
    "name": "ipython",
    "version": 3
   },
   "file_extension": ".py",
   "mimetype": "text/x-python",
   "name": "python",
   "nbconvert_exporter": "python",
   "pygments_lexer": "ipython3",
   "version": "3.6.5"
  }
 },
 "nbformat": 4,
 "nbformat_minor": 2
}
