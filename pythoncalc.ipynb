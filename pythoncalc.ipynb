{
 "cells": [
  {
   "cell_type": "code",
   "execution_count": 1,
   "metadata": {},
   "outputs": [
    {
     "name": "stdout",
     "output_type": "stream",
     "text": [
      "Select your choice\n",
      "1.Addition\n",
      "2.subtraction\n",
      "3.multiplication\n",
      "4.division\n",
      "enter your choice(1/2/3/4):1\n",
      "enter first number1\n",
      "enter second number2\n",
      "Addition of 1 and 2 is: 3\n"
     ]
    }
   ],
   "source": [
    "def add(a,b):\n",
    "    return a+b\n",
    "def sub(a,b):\n",
    "    return a-b\n",
    "def mul(a,b):\n",
    "    return a*b\n",
    "def div(a,b):\n",
    "    return a//b\n",
    "\n",
    "print(\"Select your choice\")\n",
    "print(\"1.Addition\")\n",
    "print(\"2.subtraction\")\n",
    "print(\"3.multiplication\")\n",
    "print(\"4.division\")\n",
    "\n",
    "choice = input(\"enter your choice(1/2/3/4):\")\n",
    "\n",
    "num1 = int(input(\"enter first number\"))\n",
    "num2 = int(input(\"enter second number\"))\n",
    "\n",
    "if choice == '1':\n",
    "    print(\"Addition of\",num1,\"and\",num2,\"is:\",add(num1,num2))\n",
    "    \n",
    "elif choice == '2':\n",
    "    print(num1,\"-\",num2, \"=\",sub(num1,num2))\n",
    "    \n",
    "elif choice == '3':\n",
    "    print(num1, \"*\" ,num2, \"=\",mul(num1,num2))\n",
    "\n",
    "elif choice == \"4\":\n",
    "    print(num1, \"/\" ,num2 ,\"=\" ,div(num1,num2))\n",
    "else:\n",
    "    print(\"invalid input\")\n",
    "    \n",
    "\n",
    "\n",
    "    "
   ]
  },
  {
   "cell_type": "code",
   "execution_count": null,
   "metadata": {},
   "outputs": [],
   "source": []
  }
 ],
 "metadata": {
  "kernelspec": {
   "display_name": "Python 3",
   "language": "python",
   "name": "python3"
  },
  "language_info": {
   "codemirror_mode": {
    "name": "ipython",
    "version": 3
   },
   "file_extension": ".py",
   "mimetype": "text/x-python",
   "name": "python",
   "nbconvert_exporter": "python",
   "pygments_lexer": "ipython3",
   "version": "3.6.5"
  }
 },
 "nbformat": 4,
 "nbformat_minor": 2
}
